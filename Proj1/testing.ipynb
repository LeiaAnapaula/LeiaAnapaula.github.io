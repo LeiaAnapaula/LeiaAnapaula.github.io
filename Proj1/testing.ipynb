{
 "cells": [
  {
   "cell_type": "code",
   "execution_count": 1,
   "id": "188c4c23",
   "metadata": {},
   "outputs": [
    {
     "name": "stdout",
     "output_type": "stream",
     "text": [
      "hello\n"
     ]
    }
   ],
   "source": [
    "print('hello')\n"
   ]
  },
  {
   "cell_type": "code",
   "execution_count": 2,
   "id": "1094f2ac",
   "metadata": {},
   "outputs": [
    {
     "name": "stdout",
     "output_type": "stream",
     "text": [
      "r.shape:  5\n"
     ]
    }
   ],
   "source": [
    "print(\"r.shape: \", 2+3)"
   ]
  },
  {
   "cell_type": "code",
   "execution_count": null,
   "id": "57992b2d",
   "metadata": {},
   "outputs": [],
   "source": [
    "pyramid is a func i implement\n",
    "\n",
    "pyramid is called like that because when you stack images of decrasing sizes you get a pyramid\n",
    "\n",
    "e.g. making an image from 4x4 to 2x2\n",
    "\n",
    "NumPy has a function called 'resize': np.resize()\n",
    "\n",
    "check phone pics\n",
    "\n",
    "x = value of reduced resized (best x value) times 2"
   ]
  }
 ],
 "metadata": {
  "kernelspec": {
   "display_name": "base",
   "language": "python",
   "name": "python3"
  },
  "language_info": {
   "codemirror_mode": {
    "name": "ipython",
    "version": 3
   },
   "file_extension": ".py",
   "mimetype": "text/x-python",
   "name": "python",
   "nbconvert_exporter": "python",
   "pygments_lexer": "ipython3",
   "version": "3.12.7"
  }
 },
 "nbformat": 4,
 "nbformat_minor": 5
}
